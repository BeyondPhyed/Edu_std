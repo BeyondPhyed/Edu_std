{
  "cells": [
    {
      "cell_type": "markdown",
      "metadata": {
        "id": "view-in-github",
        "colab_type": "text"
      },
      "source": [
        "<a href=\"https://colab.research.google.com/github/BeyondPhyed/Edu_std/blob/main/Crawling_04_Naver_Movie.ipynb\" target=\"_parent\"><img src=\"https://colab.research.google.com/assets/colab-badge.svg\" alt=\"Open In Colab\"/></a>"
      ]
    },
    {
      "cell_type": "code",
      "execution_count": null,
      "metadata": {
        "id": "9EhgQ7iJTIVv"
      },
      "outputs": [],
      "source": [
        "import requests\n",
        "from bs4 import BeautifulSoup"
      ]
    },
    {
      "cell_type": "markdown",
      "metadata": {
        "id": "k1ajdpPITIVy"
      },
      "source": [
        "# 영화 관람평 가져오기"
      ]
    },
    {
      "cell_type": "code",
      "execution_count": null,
      "metadata": {
        "scrolled": true,
        "id": "WIWXeh8hTIV0",
        "outputId": "3b6a8c1e-e63b-4bd7-fb94-fa2e8f0c5a51",
        "colab": {
          "base_uri": "https://localhost:8080/"
        }
      },
      "outputs": [
        {
          "output_type": "stream",
          "name": "stdout",
          "text": [
            "마블 3000만큼 사랑합니다 전은호(eunh****)2019.04.24 10:31신고 23867\n",
            "Avengers Assemble! 송(hiuh****)2019.04.24 09:35신고 15819\n",
            "I'm Ironman. ubola(ubol****)2019.04.24 10:32신고 15419\n",
            "관람객아이언맨으로 시작해서 아이언맨으로 끝난다.. 해피사과(qord****)2019.04.24 11:05신고 14483\n",
            "아스가디언즈 오브 갤럭시 벌써부터 기대됨 ㅋㅋㅋㅋ 마즈(choi****)2019.04.24 10:47신고 11947\n",
            "히어로물보고 울줄 누가알겠습니까 이만호(manh****)2019.04.24 10:07신고 10348\n",
            "인피니티워가 10년을 무너뜨리는 영화라면엔드게임은 10년을 돌아보는 영화입니다 메주0228693848(wook****)2019.04.24 12:20신고 9794\n",
            "쥐가다살렸음 ㅋㅋㅋㅋ 에헴(krth****)2019.04.24 15:26신고 9050\n",
            "관람객마지막 한타에서 쌌습니다 김대훈(eogn****)2019.04.24 10:51신고 8655\n",
            "10점 안주는 사람들은 마블에 6에서900까지밖에 애정이 없는거 ... tlsg****2019.04.24 11:50신고 7650\n",
            "영화 늦게 볼 수밖에 없는사람들을 생각해서 스포 자제해주세요ㅠㅠㅠ 한승원(brya****)2019.04.24 09:07신고 7347\n",
            "토르 등장씬보다 멋있는 어벤져스 집결씬 jjw0****2019.04.24 10:40신고 6730\n",
            "관람객고맙다.나의 20대를 채워줘서 pkt(anie****)2019.04.24 10:51신고 6258\n",
            "내 어린시절 11년을 즐겁게 해준 어벤져스 원년 멤버들... 마블 영화 한편 한편이 저의 초중고 시절, 울고 웃었던 추억이 되었어요. 아 눈물날거같애. 그동안 즐거웠고 감사했습니다. 도망노비(rlad****)2019.04.24 09:41신고 5845\n",
            "와 내가 3시간동안 화장실을 안갔어 ;;; 플레기(azz2****)2019.04.24 09:38신고 5291\n",
            "가장 큰 충격은 쿠키영상이 없단거다 케사장(kyun****)2019.04.24 10:29신고 5474\n",
            "관람객토르의 뱃살은 밸런스를 위해서라는 게 학계의 정설 Feel(jp54****)2019.04.24 13:41신고 4794\n",
            "관람객뭐 심하게 재미있지는 않고... 한 4번정도만 봐야겠어요... 아이맥스로.. Expiration(cras****)2019.04.24 12:29신고 4808\n",
            "헤일... 하이드라... AlphaHyeon(alph****)2019.04.24 10:42신고 4569\n",
            "토르 등장씬은 마블 역대 명장면중 2위로 물러났다 민샥(hong****)2019.04.24 13:00신고 4406\n",
            "캡틴이 행복하면 그걸로 됐어. 정순종(jmk8****)2019.04.24 13:53신고 4202\n",
            "하일하이드라 ㅋㅋㅋㅋ 650석 사람들 다빵터졌다 정모(wjda****)2019.04.24 11:36신고 3902\n",
            "자기밖에 모르던 사람은 모두를 위하고타인밖에 모르던 사람은 자기를 위할 줄 알게되는지금까지의 인생에 복수(avenge)할 줄 아는 사람, 그런 영웅들의 이야기 어린버섯(wise****)2019.04.24 21:59신고 3793\n",
            "앞으로 얼마나 더 재미있고 얼마나 더 웅장한 영화들이 나올지 모르겠지만, 2008년 아이언맨1을 시작으로 2019년 어벤져스 앤드게임까지 내 인생의 영화시리즈중 최고의 10년을 선사해준 마블에 감사합니다. 어벤져스 ...JB(dksw****)2019.04.24 10:41신고 3419\n",
            "그래서로키는어디로감? 김시철(tlcj****)2019.04.24 11:02신고 3105\n",
            "진짜 대박이라는말밖에 안나옵니다... amazing(mins****)2019.04.24 09:07신고 3003\n",
            "마블 어벤져스 만세! 이제 멀티버스의 세계속으로 jing****2019.04.24 12:54신고 3695\n",
            "<관람 전 필수사항>모든 마블시네마틱유니버스 보기 아이언맨1 부터... 이준혁(dlwn****)2019.04.24 10:03신고 2530\n",
            "한마디만 할게 스포아니다 화장실 갈타이밍은 도쿄 그때 가라 kof3****2019.04.26 10:33신고 2454\n",
            "관람객3시간에 담은 11년 마블의 역사 인정 rude****2019.04.24 10:55신고 2431\n",
            "이 모든게 닥터 스트레인지의 엔드게임이었다는거.. 이재근(jkle****)2019.04.24 14:39신고 2443\n",
            "스포하는 색히들 평생 저주 받아라 엘지직관두번(kimt****)2019.04.24 09:32신고 2557\n",
            "관람객I'm Iron Man. insilio12(ghkj****)2019.04.24 11:16신고 2418\n",
            "히어로물 뻔하다고 여친때메 이거 안보고 영화 생일봤음 상영관1개였는데 여친 나 단두명 이었음 그 넓은 영화관에진짜 존나진지하게 헤어질까 고민중임 하하하하ㅡㅡ(altj****)2019.04.24 16:18신고 2535\n",
            "관람객이 영화 제대로 즐길려면 마블 전작 다 보고 오셔야합니다. 닭둘기(fnvl****)2019.04.24 12:48신고 2118\n",
            "마블을 대표하는 가장 상반된 두 히어로가 맞이하는 가장 서로에 가까운 결말 이응이응(djju****)2019.04.24 19:13신고 2069\n",
            "하워드 스타크와 하워드 포츠가 만날 때 너무 애잔했다.. thislove(two_****)2019.04.25 03:53신고 2051\n",
            "자신만을 위해 살아온 아이언맨은 모두를 위해 희생하고 모두를 위해 희생해온 캡틴은 자신을 위해 선택했다 악튜러스888(arct****)2019.04.25 18:48신고 1948\n",
            "영웅들 한 곳에 모이는 씬에서 지립니다... 로그인하는놈들디짐(doyo****)2019.04.24 12:09신고 1915\n",
            "그래서 아스가디언즈 오브 갤럭시는 언제 개봉인가요?ㅋㅋㅋ sjh0****2019.04.24 11:25신고 1879\n",
            "관람객조조예매하고 못일어났다.. 나날(lst9****)2019.04.24 12:14신고 1966\n",
            "엉덩이는 역시 미국 엉덩이! Akkkkkkkkkkkkkk(kiss****)2019.04.24 13:19신고 1832\n",
            "솔직히 극한직업이랑 이 영화랑 같은 표값인게 말이안됨ㅋㅋ Mylove709(mylo****)2019.04.24 21:10신고 1865\n",
            "해리포터 마지막 시리즈 보다 더 해 이 느낌은... 연홍(yooo****)2019.04.24 10:37신고 1754\n",
            "7시 처음 상영영화로 봤어요 그냥 아무말도 안하겠습니다 제가 느낀 감정을 보는 모든분들이 느꼈으면 좋겠어요 일단 보세요 제발ㅠ miinaedahhm(miky****)2019.04.24 10:39신고 1692\n",
            "인피니티워가 더 낫다. 근데 평생 기억에남게 될 건 엔드게임이다. Seonk(keum****)2019.04.24 11:00신고 1620\n",
            "시간가는줄 모르고 봤지만 액션만 기대하면 절대 안됩니다. 각 캐릭터별로 스토리를 풀다보니 액션보단 드라마영화에 가깝다고 느껴지네요.. 느낌은 예전에 다크나이트를 보고 다크나이트라이즈를 본느낌?? 4가 정말 재밌긴 하...눈꽃(blea****)2019.04.24 10:41신고 1729\n",
            "관람객아이언맨으로 시작해 아이언맨으로 끝나는 대장정 도시여우(city****)2019.04.24 10:49신고 1430\n",
            "3,000 love you 홍대똘아이(msp5****)2019.04.24 11:14신고 1275\n",
            "진짜 마지막에 너무 먹먹햇어요... 마블팬이시라면 꼭 보셔야해요.. 차박손(rjsd****)2019.04.24 10:15신고 1259\n",
            "오랜 친구를 떠나보내는기분..공허하다...좌석에서 일어나자마자 그립다 yaku****2019.04.24 19:55신고 1244\n",
            "마블의 시대에 살게 해주셔서 감사합니다 가닝(alst****)2019.04.24 11:57신고 1101\n",
            "관람객다음 아이언맨은 아이언맨3에나온 꼬마애구나... pdga****2019.04.24 11:30신고 1096\n",
            "관람객엔드게임이라는 부제는 누가 붙혔는지는 몰라도 진짜 완벽하다 Rot0(roto****)2019.04.24 13:07신고 980\n",
            "아이언맨1부터 본사람들은 알꺼에요 이영화는 그동안 본 모든걸 보상받을 수 있는 영화라는걸 tlsg****2019.04.24 13:29신고 975\n",
            "감히 내가 평가 할 수준의 영화가 아니다... 10점도 부족하다 별점 3000만큼 준비해줘요...ㅠㅠ egsiduwj(dhek****)2019.04.24 11:21신고 949\n",
            "들쥐가 양자역학기계의 버튼을 누를 수 있는 확률 = 세상을 살릴 수 있는 확률 = 1/1400만 크... god7****2019.04.25 00:55신고 915\n",
            "관람객쿠키없으니까 기다리지마세요 딩동(appl****)2019.04.24 11:29신고 958\n",
            "옆에 여자 입틀어막고 보더라 물론 나도 같이막고봄 배신왕(terr****)2019.04.24 10:49신고 906\n",
            "어벤져스!!! 어셈블 이제좀해볼라꼬(daew****)2019.04.24 09:07신고 865\n",
            "자기밖에 몰랐던 아이언맨은 대의를 위해 희생했고 대의를 위해서만 힘쓰던 캡틴아메리카는 이제야 자신의 삶을 찾았다. 서로 매우 달랐지만 결국 닮아갔다. 캐샤(bang****)2019.04.26 16:19신고 797\n",
            "전투신 미쳤어요 진짜 영화관에서 다들 소리지르고 난리남 로켓(inbu****)2019.04.24 10:11신고 934\n",
            "가오갤찍는 토르.. 토르 찍는 캡틴.. 캡틴아메리카 찍는 토니..페어웰 어벤져스 싱짱(yard****)2019.04.24 18:33신고 761\n",
            "내가 마블영화에 네이버평점 이런거 안남기는데하나 확실한건 내가 마블영화보고 운건 처음이다단전에서 올라오는 그런 눈물 마치 내 11년의 만난 연인과 헤어지는데 동영상으로 옛 추억을 되돌려보는 느낌이랄까 가슴이 진정이 ...한승민(9tmd****)2019.04.24 14:41신고 756\n",
            "마블 팬이라면 보고 기분이묘하실듯 공집합(gbh1****)2019.04.24 10:41신고 729\n",
            "관람객???? : hail... hydra... 2d22412(c1s2****)2019.04.24 12:39신고 739\n",
            "그로 인해 시작된 이 시작을 그가 마무리 지었다 명택환(dal2****)2019.04.24 13:13신고 719\n",
            "관람객완다개좋아3000만큼 wkrr****2019.04.24 13:09신고 720\n",
            "관람객스톤이 없는 타노스는 약할줄 알았는데 그래도 좀 쎄긴 하더라 세명을 걍 갖고놀아버리네 32(love****)2019.04.25 01:54신고 693\n",
            "타노스... 빌런 주제에 최후까지 이토록 순교자처럼 거룩하면 어쩌잔 거냐... 아. ㅠㅠ 매직아워(eilo****)2019.04.24 13:00신고 722\n",
            "사실상 아이언맨4엿다 내일모래(hich****)2019.04.24 19:35신고 684\n",
            "마지막 30분이 진짜 불태웠다....전율이.... 이윤석(lysj****)2019.04.24 11:12신고 666\n",
            "난 아이언맨이다. 이거 한줄로 충분 8월8일(jusn****)2019.04.24 10:43신고 628\n",
            "너무재미있어서 눈물이난다. wltn****2019.04.24 09:39신고 616\n",
            "영화보고 버거킹 갔습니다... 쑥(chdo****)2019.04.24 13:04신고 521\n",
            "관람객3000편만 더 만들어 주세요 jsm8****2019.04.24 13:10신고 502\n",
            "관람객대작은 대작이네요...시원섭섭하고 아쉽습니다ㅎㅎ 지젤(rosy****)2019.04.24 11:15신고 484\n",
            "cgv하계 I 열 6 번에 앉았던 새기야 봉지과자랑 맥주가 그렇게 쳐먹고 싶었냐?? 니때메 3번 볼거 5번 본다 ㅡㅡ 영화관에서 봉지과자좀 처먹지마세요 제발……… 죽이고 싶습니다 이재택(godo****)2019.04.24 17:36신고 518\n",
            "단독 영화였으면 8점이였겠지만 지난 10년의 시리즈의 마무리와  MCU 창립멤버들의 최고의 은퇴식으로는 10점 만점 hareyan(rlar****)2019.04.24 13:16신고 470\n",
            "2명의 죽음이 인류 절반의 죽음 보다 슬픈 것 같다. . . . 민달팽이(als-****)2019.04.25 18:45신고 456\n",
            "토르한테 그렇게 하다니 ㅜㅠ irur****2019.04.24 13:55신고 424\n",
            "스타크...수고햇어 워니(guss****)2019.04.24 13:01신고 428\n",
            "관람객영화 시작하지마자 인생 최대의 급똥이 찾아왔지만 화장실을 가지 않아도 됐다. 시각과 청각을 제외한 모든 감각이 멎었다고 착각할 정도로 최고의 영화. 잉잉(xax1****)2019.04.24 10:49신고 429\n",
            "관람객그래서 로키는 어케되는데? li zhengjie(lanp****)2019.04.24 21:55신고 410\n",
            "어벤져스에 댓글 알바가 필요할까? 크리링(scjk****)2019.04.24 09:15신고 412\n",
            "영화 보지도 않고서 본 척 하고 스포 하는 애들 극혐. 보지도 않았는데 왜 자꾸 본 척 스포하는거임 관종인가??; 손갓(ssh9****)2019.04.24 09:19신고 416\n",
            "타노스... 그정도 파워면 행성 하나 잡고 왕노릇이나 하면서 살아도 되는데 굳이 우주의 질서를 위해 싸우겠다며 시간과 돈을 써가며 사람 모으고 스톤 모은... 마지막까지 불한당들과 끝까지 의연하게 싸운 모습을 보면 ...panz****2019.04.25 16:22신고 389\n",
            "관람객와 상영 시간 한 시간 더 했어도 만족했을 것 같다. 자몽그레이프(cyan****)2019.04.24 18:04신고 381\n",
            "여러분 맥주가 그렇게 위험합니다 인천대딩(gurw****)2019.04.24 19:22신고 365\n",
            "여러분 베댓이외에는 스포가 가득할것이니 평점은 읽지맙시다 열정디앤비(werw****)2019.04.24 09:26신고 377\n"
          ]
        },
        {
          "output_type": "execute_result",
          "data": {
            "text/plain": [
              "6687"
            ]
          },
          "metadata": {},
          "execution_count": 3
        }
      ],
      "source": [
        "url = 'https://movie.naver.com/movie/bi/mi/pointWriteFormList.nhn?code=136900&type=after&isActualPointWriteExecute=false&isMileageSubscriptionAlready=false&isMileageSubscriptionReject=false&page='\n",
        "total_data = ''\n",
        "\n",
        "for pageNo in range(10):\n",
        "    html = requests.get( url+str(pageNo) ).text\n",
        "    bs = BeautifulSoup(html)\n",
        "\n",
        "    reple = bs.select('div.score_reple')\n",
        "    score = bs.select('a._sympathyButton > strong')\n",
        "    for i in range(len(reple)):\n",
        "        content = reple[i].text.strip().replace('\\t', '').replace('\\n', '').replace('\\r', '')\n",
        "        recommend = score[i].text\n",
        "        print(content, recommend)\n",
        "        total_data += content + '\\t' + recommend + '\\n'\n",
        "        \n",
        "open('관람평.txt', 'w').write(total_data)"
      ]
    },
    {
      "cell_type": "code",
      "source": [
        "movie_code = 103719  # 198413  # 172174 \n",
        "url0 = f'https://movie.naver.com/movie//movie/bi/mi/pointWriteFormList.naver?code={movie_code}&type=after&isActualPointWriteExecute=false&isMileageSubscriptionAlready=false&isMileageSubscriptionReject=false&page='\n",
        "\n",
        "# url2 = 'https://movie.naver.com/movie//movie/bi/mi/pointWriteFormList.naver?code=81888&type=after&isActualPointWriteExecute=false&isMileageSubscriptionAlready=false&isMileageSubscriptionReject=false&page='\n",
        "\n",
        "total_data0 = ''\n",
        "\n",
        "for pageNo in range(10):\n",
        "    html0 = requests.get( url0+str(pageNo) ).text\n",
        "    bs = BeautifulSoup(html0)\n",
        "\n",
        "    reple = bs.select('div.score_reple')\n",
        "    score = bs.select('a._sympathyButton > strong')\n",
        "    for i in range(len(reple)):\n",
        "        content = reple[i].text.strip().replace('\\t', '').replace('\\n', '').replace('\\r', '')\n",
        "        recommend = score[i].text\n",
        "        print(content, recommend)\n",
        "        total_data0 += content + '\\t' + recommend + '\\n'\n",
        "        \n",
        "open('관람평0.txt', 'w').write(total_data0)"
      ],
      "metadata": {
        "colab": {
          "base_uri": "https://localhost:8080/"
        },
        "id": "BSkCosoxf1wE",
        "outputId": "044217ef-4480-4e5d-cbe2-a1d4d3c10ea2"
      },
      "execution_count": null,
      "outputs": [
        {
          "output_type": "stream",
          "name": "stdout",
          "text": [
            "배경음악 깔아가면서 억지 감동을 추구하는 밋밋한 한국영화보다 훨씬 여운이 남았다. 실버서퍼(rain****)2013.12.19 12:30신고 1012\n",
            "고레에다 감독의 섬세하고 밀도높은 내러티브, 이를 바탕으로 만들어진 진한 드라마. 그리고 후쿠야마 마사히루 눈물의 한방 니노우상(cool****)2013.12.19 00:28신고 604\n",
            "영화를 보고 난 뒤 내리던 눈이 왜 이렇게 아름답던지. 만약 내가 지금 고등학생이라면 나의 꿈은 오늘부로 영화감독이었을 것이다. arie****2013.12.19 01:22신고 618\n",
            "어떻게 보면 뻔한 스토리를 자연스럽게 풀어내었다. 아버지로써 성장하는 모습을 보여준 영화. 마지막에 엉엉 울다가 나왔다. gomu****2013.12.19 00:51신고 538\n",
            "케이타가  카메라에 잔뜩 담아둔 아빠의 잠든 모습...료타가 울때 나도 눈물이 흘렀다. 아이들을 통한 어른들의 성장기. 덤덤한 연기가 더 가슴을 울린다. 레이(rei_****)2013.12.22 02:16신고 517\n",
            "마지막 10분.. 카메라에 찍힌 사진 확인하는 장면. 아들에 미안한 마음을 전하는 장면. 자연스레 눈물이 흐른다. 온천장(tohi****)2013.12.22 12:15신고 413\n",
            "우린 왜 이런건 못만드는지 모르겠다. 일본을 옹호하는게 아니라 진심 이런게 영화에 오래 남지 .  몇억 써봐야  특히 우리나라 영화는 한달인데... 영화계가 안타갑다. 이런썅꼴라(endk****)2013.12.21 12:16신고 424\n",
            "말이 필요없다 일단 봐라 신라면(wkdd****)2013.12.19 01:15신고 411\n",
            "아버지라는 자격은 주어지는 게 아니라 만들어지는 것.. JIK(wkdd****)2013.12.19 11:33신고 368\n",
            "관람객아버지는 시간이다. 카메라의 크기는 중요하지않다 체(god2****)2014.04.05 21:35신고 285\n",
            "아이들이 빠르다고 그러셨나요? 어렸을때의 상처를 아직까지도 기억하고 있는 당신은 어떻고요? 아이들은 느리고 쉽게 잊지 않습니다. 바웃(joyc****)2013.12.23 18:18신고 289\n",
            "그렇게 아들이 아버지가 된다 phs6****2013.12.21 02:01신고 253\n",
            "관객에게 강요하지 않는 영화 백만스물(salt****)2013.12.30 23:11신고 242\n",
            "관람객카메라 보는 씬에선 안울 수가 없다. 라떼(minj****)2014.03.14 22:13신고 224\n",
            "개인적으로 일본소설을 좋아하는데 잔잔하고 정적인 분위기랑 절재된 유머랑 감정표현이 2시간동안 소설 읽는 분위기 였음 느린영화지만 화면전환이 빠르고 배우들의 연기가 특히 마사하루의 엔딩장면은 연애소설 엔딩과 비견될만큼...acto****2013.12.21 00:31신고 223\n",
            "아들이 찍어 논 사진 볼 때 떨리는 입술..말로 설명할 수없는 감정..오늘 좋은 영화 좋은 배우를 보았네요.감사합니다. joshnneil(neil****)2013.12.25 22:50신고 215\n",
            "솔직히별점깍는너네는 영화가 일본꺼라서 그냥 싫은거아니야? 소우마(lgbs****)2013.12.20 21:38신고 225\n",
            "낳은 정과 기른 정 사이에서의 딜레마를 섬세한 연출로 잘 그려낸 수작. 강백호(cine****)2013.12.26 15:01신고 158\n",
            "음식에 조미료없이 순수 재료로 맛을 낸거 처럼 깔끔하고 정갈한 느낌의 영화. 과하지도 부족하지도 않다 매니저(cute****)2013.12.26 01:09신고 156\n",
            "관람객우리는  그렇게  고레에다 히로카즈  감독의  팬이  된다. Lelia(leli****)2014.05.04 14:15신고 148\n",
            "오올 설정은 심플한데 고레에다의 현미경으로 들여다보니 무한하게 펼쳐지는 그 번뇌란... 냐옹이(cine****)2013.12.21 04:07신고 147\n",
            "이름뿐인 아버지였던 그는 그렇게 진짜 아버지가 된다. 진한 감동에 저절로 흐르는 눈물은 왜 그리 따뜻하던지.. gren****2013.12.19 19:04신고 135\n",
            "영화 끝나고 다들 우는거 들킬까봐 한명도 못일어나더라...나도 쪽팔려서... 겐또(fait****)2013.12.21 12:16신고 126\n",
            "DLSR준다고 할때 정말 미웠다. 한국영화였음 7번방처럼 신파로 만들었겠지. 베니(inma****)2013.12.27 02:43신고 131\n",
            "관람객무늬만 아버님인 많은 분들께 이 영화를 바치고 싶네요 성은(eun_****)2014.02.15 03:03신고 116\n",
            "한국 영화였다면 개막장 난리 브루스를 치는 내용이었겠지 ㅋㅋ 타이레놀(goms****)2013.12.24 18:38신고 119\n",
            "당신은 어른이십니까? 당신은 아버지이십니까? 그렇다면 꼭 보세요 박과장(woog****)2013.12.21 16:57신고 104\n",
            "꼭 주변 사람들에게 추천해 주고 싶은 영화에요 kimu****2013.12.20 14:36신고 100\n",
            "가족은 피로만 이루어 지는것이 아니다. gour****2013.12.25 22:37신고 91\n",
            "역시.. 이런게 진짜 감동적인 영화지.. 억지로 눈물 콧물 짜내는 한국 영화보다 훨씬 낫다.. karnbrade(karn****)2013.12.28 10:37신고 95\n",
            "아 근데 결론이 난 거 같기도 한데 뭔가 미묘하기도 하고... 확실한 건 너무 편안하고 좋았어요 누텔라잼(luci****)2013.12.20 20:35신고 88\n",
            "아이의 눈빛이 잊혀지지 않네요 syan(syan****)2013.12.31 00:29신고 81\n",
            "관람객소리내어 우는 장면은 없었지만 숨죽여 흐느끼는 모습들이 마음에 들어앉게된다. 부모 역시 만들어지는 존재라는 걸, 좋은부모가 되기란 정말 어려운 일이라는 것을 다시금 느끼게하는 영화 kekeke(merc****)2015.07.06 21:38신고 73\n",
            "일본다운 영화. 섬세함.. 오버하지 않고 감정을 이끌어내는 일본영화의 치밀함을 따라갈 수 있을까. 멋지고 아름답다. 남다른몽상가(kood****)2013.12.26 13:36신고 65\n",
            "케이타, 류세이 모두 부모님 사랑을 남들보다 두배 더 받을 테니... 훈훈한 결말. Absinthe(sher****)2013.12.23 20:30신고 63\n",
            "너무나 감동적이네여..특히 주인공 후쿠야마 마사하루가 바뀐 아들 케이타를 보내고 우연히 케이타가 자신을 찍은 사진을 보며 눈물을 삼키는 장면서는 보는 관객들의 눈시울을 적신다.. 꼬마눈사람환이(hwan****)2013.12.21 22:33신고 59\n",
            "아역들의 연기도 좋았고 고레에다감독 특유의 느낌과함께  배우들의 갈등과 상실감을 잘 표현해냄.,스필버그가 선택한 영화답다 해적의빵(mais****)2013.12.26 19:41신고 57\n",
            "일본영화는 제목하나는 서사적으로 잘뽑아냄 한국영화 콩클리시 타이틀 간단명료 타이틀 식상 spad****2013.12.19 17:39신고 62\n",
            "곧  부모가 될  입장에서 봐서  그런지  더 와닿는 영화였습니다. 프릿(noch****)2013.12.23 13:56신고 54\n",
            "관람객엔딩크리딧이 모두 올라갈때까지 관객모두 끝까지 남는 경험은 처음이었던것 같다 ㅋ greylake(grey****)2014.01.27 09:16신고 55\n",
            "관람객아빠와 함께 봤는데 보고나서 처음으로 속 깊은 대화를 나누었습니다. 부모와 자식과의 관계에 대해서 다시한번 깊게 생각해보게 하는 영화였습니다. jjmi****2014.01.30 15:05신고 53\n",
            "감독님오래사십시요! 완두콩(otlm****)2013.12.19 18:10신고 51\n",
            "세상의 모든 아빠들이 보면 좋을 영화. 그리고 엄마들도.지금 아빠의 역할을, 엄마의 역할을 대체할 사람은 아무도 없다. 하품쟁이(aral****)2013.12.26 14:01신고 50\n",
            "진부한 소재에 묵직한 접근. A3 13(sob1****)2013.12.25 23:23신고 50\n",
            "10점 만점에 11점 작품성!!! 대단한 감독임 토토로(haya****)2013.12.20 11:24신고 52\n",
            "오랜만에 본 담백한 영화. 자극적인것 원하면 다소 지루할 수 있겠지만 추천하고 픈 영화 철이(seas****)2013.12.22 09:23신고 50\n",
            "진짜 거장은 가족, 세월이라는 흔하디 흔한 소재로도 , 이야기를 베베꼬지 않고서도, 관객을 울리고  관객에게 감동을 준다 june****2014.01.07 19:52신고 47\n",
            "평 잘 안 남기는데 남겨봅니다~5살,3살 두 아이를 둔 아빠입니다.정말 괜찮은 영화입니다.나만 울컥하는 줄 알았는데,옆에 앉은 남자도 눈물을 찔끔^^간판 내리기 전에 꼭 보시기 바랍니다,어바웃 타임과는 또다른무게의 ...marc****2013.12.23 22:05신고 45\n",
            "결국 추억을 공유하는 것이 진정 가족이다. S2NH(thss****)2013.12.29 00:50신고 44\n",
            "관람객스필버그가 리메이크한다고 들었는데 과연 이만한 감동을 자아낼수 있을까. 멜랑쥬(aror****)2015.10.10 17:25신고 48\n",
            "관람객일본영화 특유의 잔잔한 흐름속에 섬세한 스토리 내인생과 빚대어 아름다움을 찾을 수 있었던 영화 사토루(apac****)2014.02.03 16:32신고 52\n",
            "무거운 주제와 분위기를  유지하면서 몰입도도 떨어지지 않게 만든 감독의 능력이 대단하다. 일본영화 특유의 섬세함도 마음에 든다.. 특히 본인이 아버지라면 느낌이 더할것 루노(luno****)2013.12.23 10:16신고 41\n",
            "감동을 연출하지않아도 보면안다 얼마나 가슴벅찬 감동이 차오르는지 codb****2013.12.20 21:27신고 39\n",
            "정말 평범한 장면에도 자꾸 눈물이 날 것 같아서 보는내내 옆사람 눈치봤다 영화가 끝나고 그냥 한참 앉아있었던 것 같다 월백(sksr****)2013.12.19 23:51신고 38\n",
            "자식들은 아버지와 보낸 그 시간들을 기억한다. 평범한 소재를 이토록 섬세하게 그려내는 고레에다 감독의 연출은 정말 대단하십니다... 시리우스(zaub****)2013.12.29 00:20신고 34\n",
            "가족과 부모라는 것은 어떤 것인가에 대한 고민 파이트클럽(figh****)2013.12.19 14:15신고 35\n",
            "마지막에 사진기 들여다볼때 참았던 눈물 왕창 쏟고나옴.. 진짜 좋았다 칸츄(dudq****)2014.01.17 03:16신고 33\n",
            "미국영화도, 한국영화도 따라올수 없는 일본영화만의 진한 감동... 찬비(lawr****)2014.05.04 02:03신고 30\n",
            "그렇게 나도 언젠가 아버지가 되겠지 하이브리드(pop8****)2013.12.22 12:56신고 30\n",
            "후쿠야마 마사하루의 아버지 연기, 그리고 아들역의 케이타의 케미미가 참 좋았다. 정자영(jaye****)2013.12.23 10:54신고 27\n",
            "탁월한 연출 그리고 연기 같지 않은 아역들의 연기에 만점주고 싶다 andthesunrises(lemo****)2013.12.20 23:07신고 26\n",
            "관람객몇번을 다시 봐도 감동적입니다 나무(casa****)2016.08.17 11:28신고 24\n",
            "관람객최고의 영화. 영화를 다 본 뒤 남는 감정의 여운. 최현빈(ch52****)2018.09.18 11:15신고 18\n",
            "우리가 고레에다 히로카즈를 좋아하는 이유. 샤카샤카(ldy6****)2013.12.22 21:20신고 25\n",
            "만약 나한테 이런 일이 벌어진다면 난 어떤 선택을 할까? 나가노 메이(ldy2****)2019.02.06 00:15신고 14\n",
            "크리스마스는 가족과 함께~ 커플지옥 김밥천국 psaa****2013.12.20 17:22신고 24\n",
            "정말 감사합니다. 이런 영화를 만들어 주셔서 *^^* 미카스마(myco****)2013.12.22 13:11신고 21\n",
            "나도 모르게 울고있었다 Lo(sawa****)2013.12.22 01:15신고 22\n",
            "관람객결과를 단정짓고 싶지 않아요. 그들의 삶은 계속 되기 때문에. 그냥있어요(libr****)2017.10.29 00:57신고 12\n",
            "이별하고 새가족을 맞이하는 과정을 담담한시선으로풀어내서 오히려 더현실적이고 묵직하게 다가온듯하다ㅠ 최수지(wise****)2013.12.19 20:49신고 21\n",
            "관람객눈물 참으려고 했는데 마지막에 꼬꼬마 녀석 도망갈때 확 터졌다. 아버지란 뭘까. 피는 물보다 진하지만 사랑보다는 옅다는걸 느낄 수 있는 영화. 추천합니다. 여덩(dong****)2014.06.02 22:47신고 9\n",
            "밋밋하지만 그안에 여러가지 생각과 감동을 주는 영화 특히 케이지와 류세이역을 맡은 두아이들의 연기가 어른으로서 아이의 마음을  한번쯤  헤아릴수 있도록  만드는 영화였습니다. 세레네(chiw****)2013.12.23 13:50신고 19\n",
            "관람객제목이 모든 것을 말해준다. 처음부터 주어지는 것은 없다. 그것을 얻고 느끼기까지의 여정을 담담하게 그려낸다. 떡볶이성애자(junx****)2018.08.14 07:43신고 9\n",
            "관람객내 품에서 자라났다면그건 내 전부인 아들... 리프(lsw4****)2015.04.24 16:18신고 7\n",
            "관람객진짜 아버지가 되어가는 모습이 잔잔한 감동을 준다 임원진(magn****)2016.08.15 14:00신고 8\n",
            "관람객계속해서 마음한구석을 짠하게 만드는 무엇과 나라면 어떤 선택을할지 고민을하게되는영화. 뒤늦게 좋은기회가 생겨서 보게되었는데 이제라도 보길 잘했다는생각이든다. sjsj****2016.08.04 13:12신고 10\n",
            "영화를 보면서 울었던게 얼마만인가.. 왕따거부(meta****)2013.12.25 10:34신고 17\n",
            "부모도 자식을 키우지만 자식도 부모를 키운다. 김대연(eodu****)2019.10.12 02:20신고 7\n",
            "관람객멋진 곳에서 황홀한 시간이었습니다. 김은실(euns****)2016.07.30 23:15신고 7\n",
            "관람객아버지의 입장보다 아이의 감정이 더 울컥하게 만들었던 영화. 아이의 감정 표현에 뛰어난 고레에다 히로카즈 감독의 장기를 다시 유감 없이 발휘 꼬쉬까(kkow****)2016.02.07 23:11신고 11\n",
            "관람객아버지를 만드는건 자식 bse1****2016.08.17 21:53신고 13\n",
            "얘네 가족은 이제 어떻게 되는건가요?가족의 다양한 형태를 담담히 생각할 계기가된 영화. 김윤영(pniy****)2014.01.22 00:27신고 16\n",
            "료타를 보고 저는 적어도 부성애는 못느끼겠습니다. 류세이가 가출했을 때 료타는 류세이의 집을 찾았음에도 케이타는 쳐다보지도 않죠.. 줄곧 상처만을 주다가 마지막에 깨달음을 얻고 케이타에게 달려가는 그의 모습이 감동스...하하(ses0****)2015.03.18 02:34신고 20\n",
            "관람객최고의영화입니다어렵사리 상영관찾아서 혼자가서 봤는데 다들 눈물바다더군여 fies****2016.05.14 11:50신고 5\n",
            "카메라 확인 장면과 마지막 둘이 나란히 걷는 장면만으로도 10점 만점입니다. 지금 아버지인 분도, 앞으로 아버지가 될 분들도 꼭 보셔야 될 영화 모만타이(hsu1****)2019.09.02 16:41신고 6\n",
            "관람객어느가족 관람후 보게된 이 영화는 가족에 대한 또다른 해석으로 날 설레게 했다. 씨제이(pere****)2018.08.14 16:12신고 6\n",
            "관람객진정한 가족의 의미란 무엇인가 생각하게 되는 영화 말주노(leej****)2017.11.16 00:27신고 6\n",
            "관람객저렇게 아버지가 되는걸까 soni****2017.10.27 04:59신고 6\n",
            "7번방의 선물처럼 우울한 브금 깔아두고 눈물유도하는 영화와 달랐다 펑펑 울었다... 일본은 싫지만 그 특유의 잔잔함과 편안함은 배울점이라 생각한다 너바나(akfn****)2019.09.27 02:08신고 7\n",
            "관람객현실적인 고민을 적나라게 보여준 영화같네요.. 미스터송(able****)2016.08.25 11:18신고 7\n"
          ]
        },
        {
          "output_type": "execute_result",
          "data": {
            "text/plain": [
              "7570"
            ]
          },
          "metadata": {},
          "execution_count": 4
        }
      ]
    },
    {
      "cell_type": "markdown",
      "metadata": {
        "id": "n_zeN2CTTIV1"
      },
      "source": [
        "# 추천 / 비추천 scatter 그리기"
      ]
    },
    {
      "cell_type": "code",
      "execution_count": null,
      "metadata": {
        "id": "hPcanf8lTIV2",
        "outputId": "29388e14-c20a-4726-f2bf-d68b8ec85cad",
        "colab": {
          "base_uri": "https://localhost:8080/",
          "height": 279
        }
      },
      "outputs": [
        {
          "output_type": "display_data",
          "data": {
            "text/plain": [
              "<Figure size 432x288 with 1 Axes>"
            ],
            "image/png": "[encoded data removed]"
          },
          "metadata": {
            "needs_background": "light"
          }
        }
      ],
      "source": [
        "from matplotlib import pyplot as plt\n",
        "\n",
        "url = 'https://movie.naver.com/movie/bi/mi/pointWriteFormList.nhn?code=136900&type=after&isActualPointWriteExecute=false&isMileageSubscriptionAlready=false&isMileageSubscriptionReject=false&page='\n",
        "goods = []\n",
        "bads = []\n",
        "\n",
        "for pageNo in range(50):\n",
        "    html = requests.get( url+str(pageNo) ).text\n",
        "    bs = BeautifulSoup(html)\n",
        "\n",
        "    good = bs.select('a._sympathyButton > strong')\n",
        "    bad = bs.select('a._notSympathyButton > strong')\n",
        "    for i in range(len(good)):\n",
        "        goods.append( int(good[i].text) )\n",
        "        bads.append( int(bad[i].text) )\n",
        "        \n",
        "plt.scatter(goods, bads)\n",
        "plt.xlabel('Good')\n",
        "plt.ylabel('Bad')\n",
        "plt.grid()\n",
        "plt.show()"
      ]
    },
    {
      "cell_type": "code",
      "execution_count": null,
      "metadata": {
        "scrolled": false,
        "id": "eVbcy8q8TIV2",
        "outputId": "8743436c-e9c9-459e-9af8-81d86f353042"
      },
      "outputs": [
        {
          "data": {
            "text/plain": [
              "<matplotlib.legend.Legend at 0x7fd6e5237240>"
            ]
          },
          "execution_count": 64,
          "metadata": {},
          "output_type": "execute_result"
        },
        {
          "name": "stderr",
          "output_type": "stream",
          "text": [
            "findfont: Font family ['NanumGothic'] not found. Falling back to DejaVu Sans.\n"
          ]
        },
        {
          "data": {
            "image/png": "[encoded data removed]",
            "text/plain": [
              "<Figure size 432x288 with 1 Axes>"
            ]
          },
          "metadata": {
            "needs_background": "light"
          },
          "output_type": "display_data"
        }
      ],
      "source": [
        "key = '9vkOHcJzn6m%2F6D%2BWEiy7htNfSdaLFxWErYR5PrPTULE04D3PuRZx0IeFB14M4M%2BuCGn7fqVlF%2B7zH0w0b2Al8w%3D%3D'\n",
        "url = 'http://openapi.data.go.kr/openapi/service/rest/Covid19/getCovid19GenAgeCaseInfJson?' \\\n",
        "        + 'ServiceKey=' + key\\\n",
        "        + '&pageNo=' + '0' \\\n",
        "        + '&numOfRows=' + '' \\\n",
        "        + '&startCreateDt=' + '' \\\n",
        "        + '&endCreateDt=' + '' \n",
        "\n",
        "xml = requests.get( url ).text\n",
        "bs = BeautifulSoup(xml)\n",
        "items = bs.select('item')\n",
        "\n",
        "confs, deaths, gubuns = [], [], []\n",
        "for item in items[:9] :\n",
        "    confCase = item.select_one('confCase').text\n",
        "    death = item.select_one('death').text\n",
        "    gubun = item.select_one('gubun').text\n",
        "    confs.append( int(confCase) )\n",
        "    deaths.append( int(death) )\n",
        "    gubuns.append( gubun )\n",
        "\n",
        "plt.rc('font', family='Gothic') #\n",
        "plt.bar(gubuns, confs)\n",
        "plt.bar(gubuns, deaths)\n",
        "plt.legend(['확진자', '사망자'])"
      ]
    },
    {
      "cell_type": "markdown",
      "metadata": {
        "id": "rXvhu1vsTIV3"
      },
      "source": [
        "## 네이버 지식iN 여러 페이지에 걸쳐 크롤링하기"
      ]
    },
    {
      "cell_type": "code",
      "execution_count": null,
      "metadata": {
        "id": "79JB1LAlTIV4"
      },
      "outputs": [],
      "source": [
        "import requests\n",
        "from bs4 import BeautifulSoup\n",
        "\n",
        "def parseQuestion(href):\n",
        "    url = 'https://kin.naver.com/' + href\n",
        "    req = requests.get(url)\n",
        "    bs = BeautifulSoup(req.text)\n",
        "    title = bs.select_one('div.title').text.strip()\n",
        "    \n",
        "    # 질문글 없이 사진만 올리는 예외를 처리하기 위해 try except문 사용\n",
        "    try :\n",
        "        content = bs.select_one('div.c-heading__content').text\n",
        "    except:\n",
        "        content = ''\n",
        "    \n",
        "    # 문자열에 strip을 하면 불필요한 공백 제거\n",
        "    return title.strip(), content.strip()\n",
        "\n",
        "total_result = ''\n",
        "\n",
        "# 참고 : 이 방식으로 얻을 수 있는 페이지수엔 한계가 있는 듯 하다.\n",
        "# 시간이 오래 걸리므로 우선 적은 페이지수로 테스트를 해본다.\n",
        "for n in range(2):\n",
        "    url = f'https://kin.naver.com/qna/list.naver?dirId=110404&page={n+1}'\n",
        "    req = requests.get(url)\n",
        "    bs = BeautifulSoup(req.text)\n",
        "\n",
        "    question_tds = bs.select('td.title')\n",
        "    for td in question_tds:\n",
        "        question = td.select_one('a') # a태그는 하나씩 들어있으므로 select_one 사용\n",
        "        print('제목: ' , question.text)\n",
        "        title, content = parseQuestion( question['href'] )\n",
        "        \n",
        "        total_result += title + '\\n'\n",
        "        total_result += content + '\\n\\n'\n",
        "\n",
        "open('data.txt', 'w').write(total_result)"
      ]
    }
  ],
  "metadata": {
    "kernelspec": {
      "display_name": "Python 3",
      "language": "python",
      "name": "python3"
    },
    "language_info": {
      "codemirror_mode": {
        "name": "ipython",
        "version": 3
      },
      "file_extension": ".py",
      "mimetype": "text/x-python",
      "name": "python",
      "nbconvert_exporter": "python",
      "pygments_lexer": "ipython3",
      "version": "3.6.9"
    },
    "colab": {
      "name": "Crawling_04_Naver_Movie.ipynb",
      "provenance": [],
      "include_colab_link": true
    }
  },
  "nbformat": 4,
  "nbformat_minor": 0
}