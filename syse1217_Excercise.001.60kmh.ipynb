from vpython import *
#Web VPython 3.2
# 공과 배경 설정
# canvas(width=700,height=500,background=color.white)
ball = sphere(color = color.green, pos = vec(0,10,0), make_trail=True)
box(color = color.white, size = vec(100,1,100))


# 공의 운동정보 설정
ball.v = vec(120,0,0)


# 공의 움직임 구현
while True :
    rate(100)
    
    ball.pos = ball.pos + ball.v*0.01
    

      
    
